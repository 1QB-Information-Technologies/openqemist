{
 "cells": [
  {
   "cell_type": "markdown",
   "metadata": {},
   "source": [
    "DMET Example\n",
    "======="
   ]
  },
  {
   "cell_type": "code",
   "execution_count": null,
   "metadata": {},
   "outputs": [],
   "source": [
    "import py3Dmol"
   ]
  },
  {
   "cell_type": "code",
   "execution_count": null,
   "metadata": {},
   "outputs": [],
   "source": [
    "from IPython.display import Image"
   ]
  },
  {
   "cell_type": "markdown",
   "metadata": {},
   "source": [
    "We apply tetrahedrane molecule for the DMET calculation."
   ]
  },
  {
   "cell_type": "code",
   "execution_count": null,
   "metadata": {},
   "outputs": [],
   "source": [
    "C4H4='''\n",
    "C               -0.580517    0.479710   -0.503842\n",
    "H               -1.269514    1.045226   -1.098983\n",
    "C               -0.462763   -0.528766    0.571790\n",
    "H               -1.009781   -1.152554    1.250252\n",
    "C                0.529158    0.565261    0.470571\n",
    "H                1.157329    1.232467    1.026343\n",
    "C                0.514143   -0.516046   -0.538653\n",
    "H                1.121845   -1.126087   -1.176808\n",
    "'''\n",
    "view = py3Dmol.view(width=600,height=600)\n",
    "view.addModel(\"8\\n\" + C4H4,'xyz')\n",
    "view.setStyle({'stick':{}})\n",
    "view.setStyle({'model':0},{'stick':{'colorscheme':'cyanCarbon'}})\n",
    "view.zoomTo()\n",
    "view.show()"
   ]
  },
  {
   "cell_type": "markdown",
   "metadata": {},
   "source": [
    "We import the QEMIST modules."
   ]
  },
  {
   "cell_type": "code",
   "execution_count": null,
   "metadata": {},
   "outputs": [],
   "source": [
    "import qemist\n",
    "print(qemist.__version__)"
   ]
  },
  {
   "cell_type": "code",
   "execution_count": null,
   "metadata": {},
   "outputs": [],
   "source": [
    "from qemist.electronic_structure_solvers import FCISolver\n",
    "from qemist.electronic_structure_solvers import CCSDSolver\n",
    "from qemist.problem_decomposition import DMETProblemDecomposition\n",
    "from qemist.problem_decomposition.electron_localization import iao_localization, meta_lowdin_localization"
   ]
  },
  {
   "cell_type": "markdown",
   "metadata": {},
   "source": [
    "The inputs to all the objects in QEMIST are PySCF objects. We create the molecule here, then set up the QEMIST objects. The problem decomposition algorithm holds an instance of an electronic structure solver, which can be a classical method or a quantum algorithm like VQE."
   ]
  },
  {
   "cell_type": "markdown",
   "metadata": {},
   "source": [
    "We first perform a DMET calculation with one-atom per fragment (in red) as shown below."
   ]
  },
  {
   "cell_type": "code",
   "execution_count": null,
   "metadata": {},
   "outputs": [],
   "source": [
    "view = py3Dmol.view(width=600,height=600,viewergrid=(2,4))\n",
    "view.addModel(\"8\\n\" + C4H4,'xyz')\n",
    "#view.setStyle({'stick':{}})\n",
    "view.setStyle({'model':0},{'stick':{'colorscheme':'cyanCarbon'}})\n",
    "view.setStyle({'serial':[\"0\"]},{'sphere':{'scale':'0.5','color':'red'}}, viewer=(0,0))\n",
    "view.setStyle({'serial':[\"1\"]},{'sphere':{'scale':'0.5','color':'red'}}, viewer=(0,1))\n",
    "view.setStyle({'serial':[\"2\"]},{'sphere':{'scale':'0.5','color':'red'}}, viewer=(0,2))\n",
    "view.setStyle({'serial':[\"3\"]},{'sphere':{'scale':'0.5','color':'red'}}, viewer=(0,3))\n",
    "view.setStyle({'serial':[\"4\"]},{'sphere':{'scale':'0.5','color':'red'}}, viewer=(1,0))\n",
    "view.setStyle({'serial':[\"5\"]},{'sphere':{'scale':'0.5','color':'red'}}, viewer=(1,1))\n",
    "view.setStyle({'serial':[\"6\"]},{'sphere':{'scale':'0.5','color':'red'}}, viewer=(1,2))\n",
    "view.setStyle({'serial':[\"7\"]},{'sphere':{'scale':'0.5','color':'red'}}, viewer=(1,3))\n",
    "view.zoomTo()\n",
    "view.show()"
   ]
  },
  {
   "cell_type": "code",
   "execution_count": null,
   "metadata": {},
   "outputs": [],
   "source": [
    "from pyscf import gto\n",
    "mol = gto.Mole()\n",
    "mol.atom = C4H4\n",
    "mol.basis = \"minao\"\n",
    "mol.charge = 0\n",
    "mol.spin = 0\n",
    "mol.build()\n",
    "\n",
    "dmet_solver = DMETProblemDecomposition()\n",
    "dmet_solver.electronic_structure_solver = CCSDSolver()\n",
    "dmet_solver.electron_localization_method = meta_lowdin_localization\n",
    "energy = dmet_solver.simulate(mol, [1,1,1,1,1,1,1,1])"
   ]
  },
  {
   "cell_type": "code",
   "execution_count": null,
   "metadata": {
    "scrolled": true
   },
   "outputs": [],
   "source": [
    "print(energy)"
   ]
  },
  {
   "cell_type": "markdown",
   "metadata": {},
   "source": [
    "We can change the fragment size for DMET calculation. We next carry out DMET calculation with \"CH\" as a fragment (in red)."
   ]
  },
  {
   "cell_type": "code",
   "execution_count": null,
   "metadata": {},
   "outputs": [],
   "source": [
    "view = py3Dmol.view(width=600,height=600,viewergrid=(2,2))\n",
    "view.addModel(\"8\\n\" + C4H4,'xyz')\n",
    "#view.setStyle({'stick':{}})\n",
    "view.setStyle({'model':0},{'stick':{'colorscheme':'cyanCarbon'}})\n",
    "view.setStyle({'serial':[\"0\",\"1\"]},{'sphere':{'scale':'0.5','color':'red'}}, viewer=(0,0))\n",
    "view.setStyle({'serial':[\"2\",\"3\"]},{'sphere':{'scale':'0.5','color':'red'}}, viewer=(0,1))\n",
    "view.setStyle({'serial':[\"4\",\"5\"]},{'sphere':{'scale':'0.5','color':'red'}}, viewer=(1,0))\n",
    "view.setStyle({'serial':[\"6\",\"7\"]},{'sphere':{'scale':'0.5','color':'red'}}, viewer=(1,1))\n",
    "view.zoomTo()\n",
    "view.show()"
   ]
  },
  {
   "cell_type": "code",
   "execution_count": null,
   "metadata": {},
   "outputs": [],
   "source": [
    "from pyscf import gto\n",
    "mol = gto.Mole()\n",
    "mol.atom = C4H4\n",
    "mol.basis = \"minao\"\n",
    "mol.charge = 0\n",
    "mol.spin = 0\n",
    "mol.build()\n",
    "\n",
    "dmet_solver = DMETProblemDecomposition()\n",
    "dmet_solver.electronic_structure_solver = CCSDSolver()\n",
    "dmet_solver.electron_localization_method = meta_lowdin_localization\n",
    "energy = dmet_solver.simulate(mol, [2,2,2,2])"
   ]
  },
  {
   "cell_type": "code",
   "execution_count": null,
   "metadata": {},
   "outputs": [],
   "source": [
    "print(energy)"
   ]
  },
  {
   "cell_type": "markdown",
   "metadata": {},
   "source": [
    "We can change the electronic structure solver and the electron localization strategy that the solver uses. Running this is a bad idea though because it would take forever to run."
   ]
  },
  {
   "cell_type": "code",
   "execution_count": null,
   "metadata": {},
   "outputs": [],
   "source": [
    "# dmet_solver.electronic_structure_solver = FCISolver()\n",
    "# dmet_solver.electron_localization_method = iao_localization"
   ]
  }
 ],
 "metadata": {
  "kernelspec": {
   "display_name": "Python 3",
   "language": "python",
   "name": "python3"
  },
  "language_info": {
   "codemirror_mode": {
    "name": "ipython",
    "version": 3
   },
   "file_extension": ".py",
   "mimetype": "text/x-python",
   "name": "python",
   "nbconvert_exporter": "python",
   "pygments_lexer": "ipython3",
   "version": "3.6.8"
  }
 },
 "nbformat": 4,
 "nbformat_minor": 2
}
