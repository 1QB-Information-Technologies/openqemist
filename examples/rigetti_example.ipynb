{
 "cells": [
  {
   "cell_type": "markdown",
   "metadata": {},
   "source": [
    "# OpenQEMIST and Rigetti example\n",
    "\n",
    "This notebook shows how OpenQEMIST can be combined with the Rigetti stack to use the Variational Quantum Eigensolver (VQE) as an electronic structure solver, and combine it with a problem-decomposition technique such as Density Matrix Embedding Theory (DMET)."
   ]
  },
  {
   "cell_type": "markdown",
   "metadata": {},
   "source": [
    "## VQE Example"
   ]
  },
  {
   "cell_type": "markdown",
   "metadata": {},
   "source": [
    "This tutorial assumes that the user has correctly set up and configured the OpenQEMIST package. The Variational Quantum Eigensolver (VQE)$^{1,2}$ is a hybrid quantum-classical algorithm for simulating quantum systems. We here focus on VQE within the context of solving the molecular electronic structure problem for the ground-state energy of a molecular system. In VQE, we first prepare the trial wavefunction (quantum state) $\\vert \\Psi(\\vec{\\theta}) \\rangle = U(\\vec{\\theta}) \\vert 0 \\rangle$ based on an ansatz that depends on $m$ parameters defining $\\vec{\\theta}=(\\theta_1, \\theta_2, \\ldots, \\theta_m)$. The expectation value of the Hamiltonian ($\\hat{H}$), $\\langle \\Psi(\\vec{\\theta}) \\vert \\hat{H} \\vert \\Psi(\\vec{\\theta}) \\rangle$, will then be simulated. \n",
    "\n",
    "The expectation value can be minimized based on the variational principle,  \n",
    "\n",
    "\\begin{equation}\n",
    "E = \\min_{\\vec{\\theta}} \\frac{\\langle \\Psi(\\vec{\\theta}) \\vert \\hat{H} \\vert \\Psi(\\vec{\\theta}) \\rangle}{\\langle \\Psi(\\vec{\\theta}) \\vert \\Psi(\\vec{\\theta}) \\rangle} \\geq E_{\\text{gs}}\\nonumber\n",
    "\\end{equation}\n",
    "\n",
    "which ensures that the energy computed will be an upper bound to the true ground-state energy $E_{\\text{gs}}$. This allows us using classical minimizers to find optimal parameters $\\vec{\\theta}$ for the ground-state energy $E_{\\text{gs}}$. \n",
    "\n",
    "VQE can be performed using OpenQEMIST in conjuction with the Rigetti stack for calculating the ground state energy of a molecular system. The unitary coupled-cluster ansatz can be used to prepare the trial wavefunction $\\vert \\Psi(\\vec{\\theta}) \\rangle$. In this notebook, we will show you an example using a small molecule, the hydrogen molecule (H$_\\text{2}$), for a simulation using VQE. "
   ]
  },
  {
   "cell_type": "code",
   "execution_count": 1,
   "metadata": {},
   "outputs": [
    {
     "name": "stdout",
     "output_type": "stream",
     "text": [
      "(Note: This is the (slow) Python simulator.)\n"
     ]
    }
   ],
   "source": [
    "from openqemist.electronic_structure_solvers import VQESolver, FCISolver\n",
    "from openqemist.quantum_solvers import RigettiParametricSolver\n",
    "\n",
    "from pyscf import gto\n",
    "\n",
    "# Build the molecule\n",
    "H2 = [['H', [0.0,   0.0,   0.0]], ['H', [0.0,   0.0,   0.74137727]]]\n",
    "mol = gto.Mole()\n",
    "mol.atom = H2\n",
    "mol.basis = \"sto-3g\"\n",
    "mol.charge = 0\n",
    "mol.spin = 0\n",
    "mol.build()\n",
    "\n",
    "# Configure the solver object\n",
    "vqe_solver = VQESolver()\n",
    "vqe_solver.hardware_backend_type = RigettiParametricSolver\n",
    "vqe_solver.ansatz_type = RigettiParametricSolver.Ansatze.UCCSD"
   ]
  },
  {
   "cell_type": "markdown",
   "metadata": {},
   "source": [
    "We can now simulate the molecule and get its energy."
   ]
  },
  {
   "cell_type": "code",
   "execution_count": 2,
   "metadata": {},
   "outputs": [
    {
     "name": "stderr",
     "output_type": "stream",
     "text": [
      "/usr/local/lib64/python3.7/site-packages/pyscf/scf/chkfile.py:31: H5pyDeprecationWarning: The default file mode will change to 'r' (read-only) in h5py 3.0. To suppress this warning, pass the mode you need to h5py.File(), or set the global default h5.get_config().default_file_mode, or set the environment variable H5PY_DEFAULT_READONLY=1. Available modes are: 'r', 'r+', 'w', 'w-'/'x', 'a'. See the docs for details.\n",
      "  with h5py.File(chkfile) as fh5:\n"
     ]
    },
    {
     "name": "stdout",
     "output_type": "stream",
     "text": [
      "VQE : initial variational parameters: \n",
      " [2e-05, 0.03632416060255429] \n",
      "\n",
      "Optimization terminated successfully.    (Exit mode 0)\n",
      "            Current function value: -1.1372704138513532\n",
      "            Iterations: 3\n",
      "            Function evaluations: 13\n",
      "            Gradient evaluations: 3\n",
      "\n",
      "\t\tOptimal UCCSD Singlet Energy: -1.1372704138513532\n",
      "\t\tOptimal UCCSD Singlet Amplitudes: [-5.96427699e-05  5.65221889e-02]\n",
      "\t\tNumber of Function Evaluations :  13\n",
      "\n",
      "FCI energy =  -1.1372704220924401\n",
      "VQE energy =  -1.1372704138513532\n"
     ]
    }
   ],
   "source": [
    "energy_fci = FCISolver().simulate(mol)\n",
    "energy_vqe = vqe_solver.simulate(mol)\n",
    "\n",
    "print(\"\\nFCI energy = \", energy_fci)\n",
    "print(\"VQE energy = \", energy_vqe)"
   ]
  },
  {
   "cell_type": "markdown",
   "metadata": {},
   "source": [
    "It is possible to use different initial parameters for the optimization:"
   ]
  },
  {
   "cell_type": "code",
   "execution_count": 3,
   "metadata": {},
   "outputs": [
    {
     "name": "stdout",
     "output_type": "stream",
     "text": [
      "VQE : initial variational parameters: \n",
      " [0.01, 0.01] \n",
      "\n",
      "Optimization terminated successfully.    (Exit mode 0)\n",
      "            Current function value: -1.1372665775495083\n",
      "            Iterations: 5\n",
      "            Function evaluations: 22\n",
      "            Gradient evaluations: 5\n",
      "\n",
      "\t\tOptimal UCCSD Singlet Energy: -1.1372665775495083\n",
      "\t\tOptimal UCCSD Singlet Amplitudes: [0.00041517 0.05726461]\n",
      "\t\tNumber of Function Evaluations :  22\n"
     ]
    },
    {
     "data": {
      "text/plain": [
       "-1.1372665775495083"
      ]
     },
     "execution_count": 3,
     "metadata": {},
     "output_type": "execute_result"
    }
   ],
   "source": [
    "# Using custom initial parameters\n",
    "# Getting the dimension of the initial parameters vector\n",
    "num_var_params = vqe_solver.hardware_backend.amplitude_dimension\n",
    "# Set the intial parameters for the solver\n",
    "vqe_solver.initial_var_params = [0.01 for i in range(num_var_params)]\n",
    "\n",
    "vqe_solver.simulate(mol)"
   ]
  },
  {
   "cell_type": "markdown",
   "metadata": {},
   "source": [
    "For advanced usage, including configuring the optimization algorithm, please refer to the reference manual or the other examples included with OpenQEMIST."
   ]
  },
  {
   "cell_type": "markdown",
   "metadata": {},
   "source": [
    "## DMET Example"
   ]
  },
  {
   "cell_type": "markdown",
   "metadata": {},
   "source": [
    "At the current early stage of quantum hardware, the available computational resource is yet very limited. Thus, it is still challenging to perform accurate electronic structure calculations on actual quantum hardware. Simulation on classical computer requires large computational cost as well. Therefore, we need to reduce the problem size while maintaining the accuracy of electronic structure calculation to solve a problem for small sized molecules to perform quantum simulations.  \n",
    "\n",
    "Density Matrix Embedding Theory (DMET)$^{3,4}$ is a powerful problem decomposition technique to reduce the problem size, while maintaining the accuracy of the electronic structure calculation. The DMET method decomposes a molecule into fragments, and each fragment is treated as an open quantum system that is entangled with each of the other fragments, all taken together to be that fragment's surrounding environment (or \"bath\"). VQE algorithm can be used with DMET using OpenQEMIST in conjuction with the Rigetti stack.   \n",
    "\n",
    "In this notebook, we will show you an example of H$_\\text{4}$ molecule for DMET simulation using VQE as an electronic structure solver."
   ]
  },
  {
   "cell_type": "code",
   "execution_count": 4,
   "metadata": {},
   "outputs": [
    {
     "name": "stdout",
     "output_type": "stream",
     "text": [
      " \tIteration =  1\n",
      " \t----------------\n",
      " \n",
      "\t\tFragment Number : #  1\n",
      "\t\t------------------------\n",
      "VQE : initial variational parameters: \n",
      " [0.01, 0.01] \n",
      "\n"
     ]
    },
    {
     "name": "stderr",
     "output_type": "stream",
     "text": [
      "/usr/local/lib64/python3.7/site-packages/pyscf/lib/misc.py:855: H5pyDeprecationWarning: The default file mode will change to 'r' (read-only) in h5py 3.0. To suppress this warning, pass the mode you need to h5py.File(), or set the global default h5.get_config().default_file_mode, or set the environment variable H5PY_DEFAULT_READONLY=1. Available modes are: 'r', 'r+', 'w', 'w-'/'x', 'a'. See the docs for details.\n",
      "  h5py.File.__init__(self, filename, *args, **kwargs)\n"
     ]
    },
    {
     "name": "stdout",
     "output_type": "stream",
     "text": [
      "Optimization terminated successfully.    (Exit mode 0)\n",
      "            Current function value: -1.6739632673718314\n",
      "            Iterations: 5\n",
      "            Function evaluations: 22\n",
      "            Gradient evaluations: 5\n",
      "\n",
      "\t\tOptimal UCCSD Singlet Energy: -1.6739632673718314\n",
      "\t\tOptimal UCCSD Singlet Amplitudes: [3.90398998e-05 8.48835244e-02]\n",
      "\t\tNumber of Function Evaluations :  22\n",
      "\t\tFragment Energy                 =     -1.1499046986\n",
      "\t\tNumber of Electrons in Fragment =      2.0000000000\n",
      "\n",
      "\t\tFragment Number : #  2\n",
      "\t\t------------------------\n",
      "VQE : initial variational parameters: \n",
      " [0.01, 0.01] \n",
      "\n",
      "Optimization terminated successfully.    (Exit mode 0)\n",
      "            Current function value: -1.673963267371774\n",
      "            Iterations: 5\n",
      "            Function evaluations: 22\n",
      "            Gradient evaluations: 5\n",
      "\n",
      "\t\tOptimal UCCSD Singlet Energy: -1.673963267371774\n",
      "\t\tOptimal UCCSD Singlet Amplitudes: [3.90399079e-05 8.48835244e-02]\n",
      "\t\tNumber of Function Evaluations :  22\n",
      "\t\tFragment Energy                 =     -1.1499046986\n",
      "\t\tNumber of Electrons in Fragment =      2.0000000000\n",
      "\n",
      "\t\tFragment Number : #  3\n",
      "\t\t------------------------\n",
      "VQE : initial variational parameters: \n",
      " [0.01, 0.01] \n",
      "\n",
      "Optimization terminated successfully.    (Exit mode 0)\n",
      "            Current function value: -1.4447754226295118\n",
      "            Iterations: 4\n",
      "            Function evaluations: 19\n",
      "            Gradient evaluations: 4\n",
      "\n",
      "\t\tOptimal UCCSD Singlet Energy: -1.4447754226295118\n",
      "\t\tOptimal UCCSD Singlet Amplitudes: [-1.82764655e-05  1.60150189e-01]\n",
      "\t\tNumber of Function Evaluations :  19\n",
      "\t\tFragment Energy                 =     -1.0349928670\n",
      "\t\tNumber of Electrons in Fragment =      2.0000000000\n",
      "\n",
      "\t\tFragment Number : #  4\n",
      "\t\t------------------------\n",
      "VQE : initial variational parameters: \n",
      " [0.01, 0.01] \n",
      "\n",
      "Optimization terminated successfully.    (Exit mode 0)\n",
      "            Current function value: -1.444775422629472\n",
      "            Iterations: 4\n",
      "            Function evaluations: 19\n",
      "            Gradient evaluations: 4\n",
      "\n",
      "\t\tOptimal UCCSD Singlet Energy: -1.444775422629472\n",
      "\t\tOptimal UCCSD Singlet Amplitudes: [-1.82765199e-05  1.60150189e-01]\n",
      "\t\tNumber of Function Evaluations :  19\n",
      "\t\tFragment Energy                 =     -1.0349928670\n",
      "\t\tNumber of Electrons in Fragment =      2.0000000000\n",
      "\n",
      " \tIteration =  2\n",
      " \t----------------\n",
      " \n",
      "\t\tFragment Number : #  1\n",
      "\t\t------------------------\n",
      "VQE : initial variational parameters: \n",
      " [0.01, 0.01] \n",
      "\n",
      "Optimization terminated successfully.    (Exit mode 0)\n",
      "            Current function value: -1.6740632716725408\n",
      "            Iterations: 5\n",
      "            Function evaluations: 22\n",
      "            Gradient evaluations: 5\n",
      "\n",
      "\t\tOptimal UCCSD Singlet Energy: -1.6740632716725408\n",
      "\t\tOptimal UCCSD Singlet Amplitudes: [2.96071341e-05 8.48842835e-02]\n",
      "\t\tNumber of Function Evaluations :  22\n",
      "\t\tFragment Energy                 =     -1.1500488711\n",
      "\t\tNumber of Electrons in Fragment =      2.0000000000\n",
      "\n",
      "\t\tFragment Number : #  2\n",
      "\t\t------------------------\n",
      "VQE : initial variational parameters: \n",
      " [0.01, 0.01] \n",
      "\n",
      "Optimization terminated successfully.    (Exit mode 0)\n",
      "            Current function value: -1.6740632716724992\n",
      "            Iterations: 5\n",
      "            Function evaluations: 22\n",
      "            Gradient evaluations: 5\n",
      "\n",
      "\t\tOptimal UCCSD Singlet Energy: -1.6740632716724992\n",
      "\t\tOptimal UCCSD Singlet Amplitudes: [2.96072542e-05 8.48842836e-02]\n",
      "\t\tNumber of Function Evaluations :  22\n",
      "\t\tFragment Energy                 =     -1.1500488713\n",
      "\t\tNumber of Electrons in Fragment =      2.0000000000\n",
      "\n",
      "\t\tFragment Number : #  3\n",
      "\t\t------------------------\n",
      "VQE : initial variational parameters: \n",
      " [0.01, 0.01] \n",
      "\n",
      "Optimization terminated successfully.    (Exit mode 0)\n",
      "            Current function value: -1.4448754265633597\n",
      "            Iterations: 4\n",
      "            Function evaluations: 19\n",
      "            Gradient evaluations: 4\n",
      "\n",
      "\t\tOptimal UCCSD Singlet Energy: -1.4448754265633597\n",
      "\t\tOptimal UCCSD Singlet Amplitudes: [-5.20238454e-05  1.60150590e-01]\n",
      "\t\tNumber of Function Evaluations :  19\n",
      "\t\tFragment Energy                 =     -1.0350391694\n",
      "\t\tNumber of Electrons in Fragment =      2.0000000000\n",
      "\n",
      "\t\tFragment Number : #  4\n",
      "\t\t------------------------\n",
      "VQE : initial variational parameters: \n",
      " [0.01, 0.01] \n",
      "\n",
      "Optimization terminated successfully.    (Exit mode 0)\n",
      "            Current function value: -1.444875426563435\n",
      "            Iterations: 4\n",
      "            Function evaluations: 19\n",
      "            Gradient evaluations: 4\n",
      "\n",
      "\t\tOptimal UCCSD Singlet Energy: -1.444875426563435\n",
      "\t\tOptimal UCCSD Singlet Amplitudes: [-5.20239742e-05  1.60150590e-01]\n",
      "\t\tNumber of Function Evaluations :  19\n",
      "\t\tFragment Energy                 =     -1.0350391693\n",
      "\t\tNumber of Electrons in Fragment =      2.0000000000\n",
      "\n",
      " \tIteration =  3\n",
      " \t----------------\n",
      " \n",
      "\t\tFragment Number : #  1\n",
      "\t\t------------------------\n",
      "VQE : initial variational parameters: \n",
      " [0.01, 0.01] \n",
      "\n",
      "Optimization terminated successfully.    (Exit mode 0)\n",
      "            Current function value: -1.6739632673717963\n",
      "            Iterations: 5\n",
      "            Function evaluations: 22\n",
      "            Gradient evaluations: 5\n",
      "\n",
      "\t\tOptimal UCCSD Singlet Energy: -1.6739632673717963\n",
      "\t\tOptimal UCCSD Singlet Amplitudes: [3.90399233e-05 8.48835244e-02]\n",
      "\t\tNumber of Function Evaluations :  22\n",
      "\t\tFragment Energy                 =     -1.1499046986\n",
      "\t\tNumber of Electrons in Fragment =      2.0000000000\n",
      "\n",
      "\t\tFragment Number : #  2\n",
      "\t\t------------------------\n",
      "VQE : initial variational parameters: \n",
      " [0.01, 0.01] \n",
      "\n",
      "Optimization terminated successfully.    (Exit mode 0)\n",
      "            Current function value: -1.6739632673718778\n",
      "            Iterations: 5\n",
      "            Function evaluations: 22\n",
      "            Gradient evaluations: 5\n",
      "\n",
      "\t\tOptimal UCCSD Singlet Energy: -1.6739632673718778\n",
      "\t\tOptimal UCCSD Singlet Amplitudes: [3.90399233e-05 8.48835244e-02]\n",
      "\t\tNumber of Function Evaluations :  22\n",
      "\t\tFragment Energy                 =     -1.1499046986\n",
      "\t\tNumber of Electrons in Fragment =      2.0000000000\n",
      "\n",
      "\t\tFragment Number : #  3\n",
      "\t\t------------------------\n",
      "VQE : initial variational parameters: \n",
      " [0.01, 0.01] \n",
      "\n",
      "Optimization terminated successfully.    (Exit mode 0)\n",
      "            Current function value: -1.4447754226294482\n",
      "            Iterations: 4\n",
      "            Function evaluations: 19\n",
      "            Gradient evaluations: 4\n",
      "\n",
      "\t\tOptimal UCCSD Singlet Energy: -1.4447754226294482\n",
      "\t\tOptimal UCCSD Singlet Amplitudes: [-1.82764893e-05  1.60150189e-01]\n",
      "\t\tNumber of Function Evaluations :  19\n",
      "\t\tFragment Energy                 =     -1.0349928670\n",
      "\t\tNumber of Electrons in Fragment =      2.0000000000\n",
      "\n",
      "\t\tFragment Number : #  4\n",
      "\t\t------------------------\n",
      "VQE : initial variational parameters: \n",
      " [0.01, 0.01] \n",
      "\n",
      "Optimization terminated successfully.    (Exit mode 0)\n",
      "            Current function value: -1.4447754226294613\n",
      "            Iterations: 4\n",
      "            Function evaluations: 19\n",
      "            Gradient evaluations: 4\n",
      "\n",
      "\t\tOptimal UCCSD Singlet Energy: -1.4447754226294613\n",
      "\t\tOptimal UCCSD Singlet Amplitudes: [-1.82764365e-05  1.60150189e-01]\n",
      "\t\tNumber of Function Evaluations :  19\n",
      "\t\tFragment Energy                 =     -1.0349928670\n",
      "\t\tNumber of Electrons in Fragment =      2.0000000000\n",
      "\n",
      " \t*** DMET Cycle Done *** \n",
      " \tDMET Energy ( a.u. ) =     -1.9916111023\n",
      " \tChemical Potential   =      0.0000000000\n",
      "The DMET energy is:  -1.9916111022655567\n"
     ]
    }
   ],
   "source": [
    "from openqemist.problem_decomposition import DMETProblemDecomposition\n",
    "from openqemist.problem_decomposition.electron_localization import meta_lowdin_localization\n",
    "\n",
    "H4 = [['H', [0.7071067811865476,   0.0,                 0.0]],\n",
    "      ['H', [0.0,                  0.7071067811865476,  0.0]],\n",
    "      ['H', [-1.0071067811865476,  0.0,                 0.0]],\n",
    "      ['H', [0.0,                 -1.0071067811865476,  0.0]]]\n",
    "\n",
    "mol = gto.Mole()\n",
    "mol.atom = H4\n",
    "mol.basis = \"minao\"\n",
    "mol.charge = 0\n",
    "mol.spin = 0\n",
    "mol.build()\n",
    "\n",
    "dmet = DMETProblemDecomposition()\n",
    "dmet.verbose = True\n",
    "dmet.electron_localization_method = meta_lowdin_localization\n",
    "# Set the DMET object to use the solver that we configured above\n",
    "dmet.electronic_structure_solver = vqe_solver\n",
    "energy_vqe = dmet.simulate(mol, [1,1,1,1])\n",
    "\n",
    "print(\"The DMET energy is: \", energy_vqe)"
   ]
  },
  {
   "cell_type": "markdown",
   "metadata": {},
   "source": [
    "## References<a name=\"ref\"></a>\n",
    "1. Alberto Peruzzo, Jarrod McClean, Peter Shadbolt, Man-Hong Yung, Xiao-Qi Zhou, Peter J. Love, Alán Aspuru-Guzik, and Jeremy L. O'Brien, \"A variational eigenvalue solver on a photonic quantum processor\", Nat. Commun., 5, 4213 (2014).\n",
    "2. Jarrod R. McClean, Jonathan Romero, Ryan Babbush, and Alán Aspuru-Guzik, \"The theory of variational hybrid quantum-classical algorithms\", New J. Phys., 18, 023023 (2016).\n",
    "3. Gerald Knizia and Garnet K.-L. Chan, \"Density Matrix Embedding: A Simple Alternative to Dynamical Mean-Field Theory\", Phys. Rev. Lett., 109, 186404 (2012).\n",
    "4. Sebastian Wouters, Carlos A. Jiménez-Hoyos, Qiming Sun, and Garnet K.-L. Chan, \"A Practical Guide to Density Matrix Embedding Theory in Quantum Chemistry\", J. Chem. Theory Comput., 12, pp. 2706&ndash;2719 (2016)."
   ]
  }
 ],
 "metadata": {
  "kernelspec": {
   "display_name": "Python 3",
   "language": "python",
   "name": "python3"
  },
  "language_info": {
   "codemirror_mode": {
    "name": "ipython",
    "version": 3
   },
   "file_extension": ".py",
   "mimetype": "text/x-python",
   "name": "python",
   "nbconvert_exporter": "python",
   "pygments_lexer": "ipython3",
   "version": "3.7.5"
  }
 },
 "nbformat": 4,
 "nbformat_minor": 2
}
