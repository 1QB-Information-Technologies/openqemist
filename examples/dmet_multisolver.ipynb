{
 "cells": [
  {
   "cell_type": "markdown",
   "metadata": {},
   "source": [
    "Using multiple types of solvers for DMET fragments\n",
    "======"
   ]
  },
  {
   "cell_type": "markdown",
   "metadata": {},
   "source": [
    "This notebook demonstrates how to use a different electronic structure solver for each framgent that is produced by the DMET problem decomposition. For details and theory about DMET, see the other examples provided with the documentation.\n",
    "\n",
    "We set up the molecule that we use in this example."
   ]
  },
  {
   "cell_type": "code",
   "execution_count": null,
   "metadata": {},
   "outputs": [],
   "source": [
    "import py3Dmol\n",
    "\n",
    "H8_He2 = \"\"\"\n",
    "HE         1.6180339887          0.0000000000          0.0000000000\n",
    "HE         1.3090169944          0.9510565163          0.0000000000\n",
    "H          0.5000000000          1.5388417686          0.0000000000\n",
    "H         -0.5000000000          1.5388417686          0.0000000000\n",
    "H         -1.3090169944          0.9510565163          0.0000000000\n",
    "H         -1.6180339887          0.0000000000          0.0000000000\n",
    "H         -1.3090169944         -0.9510565163          0.0000000000\n",
    "H         -0.5000000000         -1.5388417686          0.0000000000\n",
    "H          0.5000000000         -1.5388417686          0.0000000000\n",
    "H          1.3090169944         -0.9510565163          0.0000000000\n",
    "\"\"\"\n",
    "view = py3Dmol.view(width=400,height=400)\n",
    "view.addModel(\"10\\n\" + H8_He2,'xyz',{'keepH': True})\n",
    "view.setStyle({'sphere':{}})\n",
    "view.setStyle({'model':0},{'sphere':{'colorscheme':'cyanCarbon','scale':'0.2'}})\n",
    "view.zoomTo()\n",
    "view.show()\n",
    "\n",
    "from pyscf import gto\n",
    "mol = gto.Mole() # Instantiate the molecule class in PySCF\n",
    "mol.atom = H8_He2   # The coordinates of the atoms of the 10-hydrogen-atom ring are defined above\n",
    "mol.basis = \"3-21g\" # Use \"3-12g\" as the basis set\n",
    "mol.charge = 0 # Assign the charge of the molecule \n",
    "mol.spin = 0 # Assign the spin of the molecule\n",
    "mol.build() # Build the molecule object"
   ]
  },
  {
   "cell_type": "markdown",
   "metadata": {},
   "source": [
    "As usual, we begin with importing the modules from OpenQEMIST. "
   ]
  },
  {
   "cell_type": "code",
   "execution_count": null,
   "metadata": {},
   "outputs": [],
   "source": [
    "from openqemist import electronic_structure_solvers as ess\n",
    "from openqemist import problem_decomposition as pd"
   ]
  },
  {
   "cell_type": "markdown",
   "metadata": {},
   "source": [
    "The DMET object can be used in two ways. The default behaviour of the solver is to use an instance of an electronic structure solver to solve all the fragments that are produced by the decomposition. This is shown below:"
   ]
  },
  {
   "cell_type": "code",
   "execution_count": null,
   "metadata": {},
   "outputs": [],
   "source": [
    "dmet = pd.DMETProblemDecomposition()\n",
    "dmet.electronic_structure_solver = ess.CCSDSolver()\n",
    "\n",
    "energy = dmet.simulate(mol, [2,2,2,2,2])\n",
    "\n",
    "print(\"DMET energy with CCSD is \", energy)"
   ]
  },
  {
   "cell_type": "markdown",
   "metadata": {},
   "source": [
    "The DMET object can also use a different electronic structure solver to solve each fragment. This is done with the optional `fragment_solvers` parameter. The value passed here should be a list of `ElectronicStructureSolver` instances that has as many elements as there are fragments. This is shown below."
   ]
  },
  {
   "cell_type": "code",
   "execution_count": null,
   "metadata": {},
   "outputs": [],
   "source": [
    "# Create instances of the solvers that we want to use\n",
    "fci = ess.FCISolver()\n",
    "from openqemist import quantum_solvers as qs\n",
    "vqe = ess.VQESolver()\n",
    "vqe.hardware_backend_type = qs.MicrosoftQSharpParametricSolver\n",
    "vqe.ansatz_type = qs.MicrosoftQSharpParametricSolver.Ansatze.UCCSD\n",
    "\n",
    "# Use the VQE sovler to solve two helium fragments and the FCI solver for the hydrogen\n",
    "solvers = [vqe, vqe] + [fci for i in range(8)]\n",
    "energy = dmet.simulate(mol, [1,1,1,1,1,1,1,1,1,1], fragment_solvers=solvers)\n",
    "\n",
    "print(\"Mixed solver energy is \", energy)"
   ]
  },
  {
   "cell_type": "code",
   "execution_count": null,
   "metadata": {},
   "outputs": [],
   "source": []
  }
 ],
 "metadata": {
  "kernelspec": {
   "display_name": "Python 3",
   "language": "python",
   "name": "python3"
  },
  "language_info": {
   "codemirror_mode": {
    "name": "ipython",
    "version": 3
   },
   "file_extension": ".py",
   "mimetype": "text/x-python",
   "name": "python",
   "nbconvert_exporter": "python",
   "pygments_lexer": "ipython3",
   "version": "3.6.8"
  }
 },
 "nbformat": 4,
 "nbformat_minor": 2
}
